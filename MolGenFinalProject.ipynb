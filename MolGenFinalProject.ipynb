{
  "nbformat": 4,
  "nbformat_minor": 0,
  "metadata": {
    "colab": {
      "provenance": [],
      "authorship_tag": "ABX9TyPxjy88eg3x76i0EyivE9xQ",
      "include_colab_link": true
    },
    "kernelspec": {
      "name": "python3",
      "display_name": "Python 3"
    },
    "language_info": {
      "name": "python"
    }
  },
  "cells": [
    {
      "cell_type": "markdown",
      "metadata": {
        "id": "view-in-github",
        "colab_type": "text"
      },
      "source": [
        "<a href=\"https://colab.research.google.com/github/theronitdey/molgenfinalproject2025/blob/main/MolGenFinalProject.ipynb\" target=\"_parent\"><img src=\"https://colab.research.google.com/assets/colab-badge.svg\" alt=\"Open In Colab\"/></a>"
      ]
    },
    {
      "cell_type": "markdown",
      "source": [
        "# **Molecular Genetics Final Project**"
      ],
      "metadata": {
        "id": "GXtaXLr232BV"
      }
    },
    {
      "cell_type": "markdown",
      "source": [
        "For my final project, I want to explore how deep learning models, traditionally thought to require massive datasets, can be adapted to small biological datasets through techniques such as data augmentation, transfer learning, and regularization. I want to tailor this towards creating a modelor distinguishing between acute myeloid leukemia (AML) and acute lymphoblastic leukemia (ALL) using supervised learning techniques. I will first expand the effective size of the training set through biologically-informed data augmentation and pretraining strategies, and then develop a compact deep learning model (e.g., a small dense network or a Siamese network) optimized for generalization with minimal data. Rather than focusing on trying to maximize classification accuracy by using a very computationally intensive and complicated model architecture, I want to focus on computational efficiency and interpretability, since that is critical for practical applications in molecular genetics. On a personal level,  building computationally efficient and interpretable models is something I am passionate about and have experience with."
      ],
      "metadata": {
        "id": "PX65XIYW350B"
      }
    },
    {
      "cell_type": "markdown",
      "source": [
        "# Part 1: Setting up Imports and Reading in Data"
      ],
      "metadata": {
        "id": "be3Ev93_4Sed"
      }
    },
    {
      "cell_type": "code",
      "execution_count": 3,
      "metadata": {
        "colab": {
          "base_uri": "https://localhost:8080/"
        },
        "id": "BUL1XzUX3Q1Z",
        "outputId": "6eabc091-e0ee-4ea1-d89d-bc61636366ed"
      },
      "outputs": [
        {
          "output_type": "stream",
          "name": "stdout",
          "text": [
            "Drive already mounted at /content/drive; to attempt to forcibly remount, call drive.mount(\"/content/drive\", force_remount=True).\n"
          ]
        }
      ],
      "source": [
        "#Various imports necessary to perform computations, develop supervised ML models, and create visualiztaions\n",
        "import os\n",
        "import numpy as np\n",
        "import shutil\n",
        "import pandas as pd\n",
        "import tensorflow as tf\n",
        "from tensorflow.keras import layers, models, regularizers\n",
        "from sklearn.model_selection import train_test_split\n",
        "from sklearn.preprocessing import StandardScaler\n",
        "from sklearn.decomposition import PCA\n",
        "from sklearn.metrics import classification_report, confusion_matrix\n",
        "\n",
        "from google.colab import drive\n",
        "drive.mount('/content/drive') #Mounting to Google Drive"
      ]
    },
    {
      "cell_type": "code",
      "source": [
        "#Reading in Data\n",
        "train = pd.read_csv('/content/drive/MyDrive/MolGenFinal/AML Train Data Set.csv')\n",
        "independent = pd.read_csv('/content/drive/MyDrive/MolGenFinal/AML Independent Data Set.csv')\n",
        "actual = pd.read_csv('/content/drive/MyDrive/MolGenFinal/Actual.csv')"
      ],
      "metadata": {
        "id": "47zbiQQO7EpK"
      },
      "execution_count": 6,
      "outputs": []
    },
    {
      "cell_type": "code",
      "source": [
        "#Visualizing Data\n",
        "print(\"\\n Train head:\")\n",
        "print(train.head())\n",
        "\n",
        "print(\"\\n Actual labels head:\")\n",
        "print(actual.head())"
      ],
      "metadata": {
        "colab": {
          "base_uri": "https://localhost:8080/"
        },
        "id": "5JM858eX7gPT",
        "outputId": "20219c9d-0e61-4880-ff7d-42b32f0a858d"
      },
      "execution_count": 7,
      "outputs": [
        {
          "output_type": "stream",
          "name": "stdout",
          "text": [
            "\n",
            " Train head:\n",
            "                      Gene Description Gene Accession Number    1 call    2  \\\n",
            "0  AFFX-BioB-5_at (endogenous control)        AFFX-BioB-5_at -214    A -139   \n",
            "1  AFFX-BioB-M_at (endogenous control)        AFFX-BioB-M_at -153    A  -73   \n",
            "2  AFFX-BioB-3_at (endogenous control)        AFFX-BioB-3_at  -58    A   -1   \n",
            "3  AFFX-BioC-5_at (endogenous control)        AFFX-BioC-5_at   88    A  283   \n",
            "4  AFFX-BioC-3_at (endogenous control)        AFFX-BioC-3_at -295    A -264   \n",
            "\n",
            "  call.1    3 call.2    4 call.3  ...   29 call.33   30 call.34   31 call.35  \\\n",
            "0      A  -76      A -135      A  ...   15       A -318       A  -32       A   \n",
            "1      A  -49      A -114      A  ... -114       A -192       A  -49       A   \n",
            "2      A -307      A  265      A  ...    2       A  -95       A   49       A   \n",
            "3      A  309      A   12      A  ...  193       A  312       A  230       P   \n",
            "4      A -376      A -419      A  ...  -51       A -139       A -367       A   \n",
            "\n",
            "    32 call.36   33 call.37  \n",
            "0 -124       A -135       A  \n",
            "1  -79       A -186       A  \n",
            "2  -37       A  -70       A  \n",
            "3  330       A  337       A  \n",
            "4 -188       A -407       A  \n",
            "\n",
            "[5 rows x 78 columns]\n",
            "\n",
            " Actual labels head:\n",
            "   patient cancer\n",
            "0        1    ALL\n",
            "1        2    ALL\n",
            "2        3    ALL\n",
            "3        4    ALL\n",
            "4        5    ALL\n"
          ]
        }
      ]
    },
    {
      "cell_type": "markdown",
      "source": [
        "Based off what was generated from running the code, everything looks alright so far. We can see that there are corresponding rows and columns for both the \"train\" and \"actual\" data"
      ],
      "metadata": {
        "id": "ujT9lAyO73UR"
      }
    }
  ]
}