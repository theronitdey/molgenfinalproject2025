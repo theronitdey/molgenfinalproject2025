{
  "nbformat": 4,
  "nbformat_minor": 0,
  "metadata": {
    "colab": {
      "provenance": [],
      "authorship_tag": "ABX9TyP6W9G34UZnhGZk2YOPXP8b",
      "include_colab_link": true
    },
    "kernelspec": {
      "name": "python3",
      "display_name": "Python 3"
    },
    "language_info": {
      "name": "python"
    }
  },
  "cells": [
    {
      "cell_type": "markdown",
      "metadata": {
        "id": "view-in-github",
        "colab_type": "text"
      },
      "source": [
        "<a href=\"https://colab.research.google.com/github/theronitdey/molgenfinalproject2025/blob/main/MolGenFinalProject.ipynb\" target=\"_parent\"><img src=\"https://colab.research.google.com/assets/colab-badge.svg\" alt=\"Open In Colab\"/></a>"
      ]
    },
    {
      "cell_type": "markdown",
      "source": [
        "# **Molecular Genetics Final Project**"
      ],
      "metadata": {
        "id": "GXtaXLr232BV"
      }
    },
    {
      "cell_type": "markdown",
      "source": [
        "For my final project, I want to explore how deep learning models, traditionally thought to require massive datasets, can be adapted to small biological datasets through techniques such as data augmentation, transfer learning, and regularization. I want to tailor this towards creating a modelor distinguishing between acute myeloid leukemia (AML) and acute lymphoblastic leukemia (ALL) using supervised learning techniques. I will first expand the effective size of the training set through biologically-informed data augmentation and pretraining strategies, and then develop a compact deep learning model (e.g., a small dense network or a Siamese network) optimized for generalization with minimal data. Rather than focusing on trying to maximize classification accuracy by using a very computationally intensive and complicated model architecture, I want to focus on computational efficiency and interpretability, since that is critical for practical applications in molecular genetics. On a personal level,  building computationally efficient and interpretable models is something I am passionate about and have experience with."
      ],
      "metadata": {
        "id": "PX65XIYW350B"
      }
    },
    {
      "cell_type": "markdown",
      "source": [
        "# Part 1: Setting up Imports and Reading in Data"
      ],
      "metadata": {
        "id": "be3Ev93_4Sed"
      }
    },
    {
      "cell_type": "code",
      "execution_count": 1,
      "metadata": {
        "colab": {
          "base_uri": "https://localhost:8080/"
        },
        "id": "BUL1XzUX3Q1Z",
        "outputId": "e2b9a336-18be-476b-c306-5552c36c544a"
      },
      "outputs": [
        {
          "output_type": "stream",
          "name": "stdout",
          "text": [
            "Drive already mounted at /content/drive; to attempt to forcibly remount, call drive.mount(\"/content/drive\", force_remount=True).\n"
          ]
        }
      ],
      "source": [
        "#Various imports necessary to perform computations, develop supervised ML models, and create visualiztaions\n",
        "import os\n",
        "import numpy as np\n",
        "import shutil\n",
        "import pandas as pd\n",
        "import tensorflow as tf\n",
        "import matplotlib as plt\n",
        "from tensorflow.keras import layers, models, regularizers\n",
        "from sklearn.model_selection import train_test_split\n",
        "from sklearn.preprocessing import StandardScaler\n",
        "from sklearn.decomposition import PCA\n",
        "from sklearn.metrics import classification_report, confusion_matrix\n",
        "\n",
        "\n",
        "from google.colab import drive\n",
        "drive.mount('/content/drive') #Mounting to Google Drive"
      ]
    },
    {
      "cell_type": "code",
      "source": [
        "#Reading in Data\n",
        "train = pd.read_csv('/content/drive/MyDrive/MolGenFinal/AML Train Data Set.csv')\n",
        "independent = pd.read_csv('/content/drive/MyDrive/MolGenFinal/AML Independent Data Set.csv')\n",
        "actual = pd.read_csv('/content/drive/MyDrive/MolGenFinal/Actual.csv')"
      ],
      "metadata": {
        "id": "47zbiQQO7EpK"
      },
      "execution_count": 2,
      "outputs": []
    },
    {
      "cell_type": "code",
      "source": [
        "#Visualizing Data\n",
        "print(\"\\n Train head:\")\n",
        "print(train.head())\n",
        "\n",
        "print(\"\\n Actual labels head:\")\n",
        "print(actual.head())"
      ],
      "metadata": {
        "colab": {
          "base_uri": "https://localhost:8080/"
        },
        "id": "5JM858eX7gPT",
        "outputId": "2cccd88f-3a66-4cf9-9edb-35330c166d2b"
      },
      "execution_count": 3,
      "outputs": [
        {
          "output_type": "stream",
          "name": "stdout",
          "text": [
            "\n",
            " Train head:\n",
            "                      Gene Description Gene Accession Number    1 call    2  \\\n",
            "0  AFFX-BioB-5_at (endogenous control)        AFFX-BioB-5_at -214    A -139   \n",
            "1  AFFX-BioB-M_at (endogenous control)        AFFX-BioB-M_at -153    A  -73   \n",
            "2  AFFX-BioB-3_at (endogenous control)        AFFX-BioB-3_at  -58    A   -1   \n",
            "3  AFFX-BioC-5_at (endogenous control)        AFFX-BioC-5_at   88    A  283   \n",
            "4  AFFX-BioC-3_at (endogenous control)        AFFX-BioC-3_at -295    A -264   \n",
            "\n",
            "  call.1    3 call.2    4 call.3  ...   29 call.33   30 call.34   31 call.35  \\\n",
            "0      A  -76      A -135      A  ...   15       A -318       A  -32       A   \n",
            "1      A  -49      A -114      A  ... -114       A -192       A  -49       A   \n",
            "2      A -307      A  265      A  ...    2       A  -95       A   49       A   \n",
            "3      A  309      A   12      A  ...  193       A  312       A  230       P   \n",
            "4      A -376      A -419      A  ...  -51       A -139       A -367       A   \n",
            "\n",
            "    32 call.36   33 call.37  \n",
            "0 -124       A -135       A  \n",
            "1  -79       A -186       A  \n",
            "2  -37       A  -70       A  \n",
            "3  330       A  337       A  \n",
            "4 -188       A -407       A  \n",
            "\n",
            "[5 rows x 78 columns]\n",
            "\n",
            " Actual labels head:\n",
            "   patient cancer\n",
            "0        1    ALL\n",
            "1        2    ALL\n",
            "2        3    ALL\n",
            "3        4    ALL\n",
            "4        5    ALL\n"
          ]
        }
      ]
    },
    {
      "cell_type": "markdown",
      "source": [
        "Based off what was generated from running the code, everything looks alright so far. We can see that there are corresponding rows and columns for both the \"train\" and \"actual\" data"
      ],
      "metadata": {
        "id": "ujT9lAyO73UR"
      }
    },
    {
      "cell_type": "markdown",
      "source": [
        "# **Step 2: Data Processing**"
      ],
      "metadata": {
        "id": "EtuWToSpNecM"
      }
    },
    {
      "cell_type": "code",
      "source": [
        "# We want:\n",
        "# - expression matrix (samples × genes)\n",
        "# - matching labels\n",
        "\n",
        "# Extract numeric columns (expression levels)\n",
        "expression = train.iloc[:, 2:].select_dtypes(include=[np.number]).transpose()\n",
        "expression.columns = train['Gene Description']\n",
        "\n",
        "# Get sample labels (ALL → 0, AML → 1)\n",
        "labels = actual['cancer'].map({'ALL': 0, 'AML': 1}).values\n",
        "\n",
        "print(\"Expression matrix shape:\", expression.shape)\n",
        "print(\"Labels shape:\", labels.shape)"
      ],
      "metadata": {
        "colab": {
          "base_uri": "https://localhost:8080/"
        },
        "id": "Tp4hGhg3Nh9M",
        "outputId": "d193a38a-0350-4628-e78a-5253943ca2c1"
      },
      "execution_count": 4,
      "outputs": [
        {
          "output_type": "stream",
          "name": "stdout",
          "text": [
            "Expression matrix shape: (38, 7129)\n",
            "Labels shape: (72,)\n"
          ]
        }
      ]
    },
    {
      "cell_type": "code",
      "source": [
        "#Next, I will perform data standardization\n",
        "\n",
        "# Standardize to mean=0, std=1 — critical for deep learning!\n",
        "\n",
        "scaler = StandardScaler()\n",
        "X_scaled = scaler.fit_transform(expression)"
      ],
      "metadata": {
        "id": "k8DrtwHANdo5"
      },
      "execution_count": 5,
      "outputs": []
    },
    {
      "cell_type": "code",
      "source": [
        "#I will now perform a Dimensiopnality Reduction through Principal Component ANalysis (PCA)\n",
        "\n",
        "# I want to reduce ~7000 genes into to ~30 principal components\n",
        "# to avoid overfitting and capture major variation.\n",
        "\n",
        "pca = PCA(n_components=30)\n",
        "X_pca = pca.fit_transform(X_scaled)\n",
        "\n",
        "print(\"PCA completed! Shape:\", X_pca.shape)\n"
      ],
      "metadata": {
        "colab": {
          "base_uri": "https://localhost:8080/"
        },
        "id": "LcpuCIRcN6VX",
        "outputId": "a258fa9f-e60e-466a-83fb-0cc05dde3d88"
      },
      "execution_count": 6,
      "outputs": [
        {
          "output_type": "stream",
          "name": "stdout",
          "text": [
            "PCA completed! Shape: (38, 30)\n"
          ]
        }
      ]
    },
    {
      "cell_type": "code",
      "source": [
        "#Now, using MatPlotLib I will plot the variance explained by the PCA\n",
        "import matplotlib.pyplot as plt\n",
        "\n",
        "plt.figure(figsize=(10,4))\n",
        "plt.plot(np.cumsum(pca.explained_variance_ratio_), marker='o')\n",
        "plt.xlabel('Number of components')\n",
        "plt.ylabel('Cumulative explained variance')\n",
        "plt.title('PCA Explained Variance')\n",
        "plt.grid()\n",
        "plt.show()\n"
      ],
      "metadata": {
        "colab": {
          "base_uri": "https://localhost:8080/",
          "height": 349
        },
        "id": "LFxzclMVPHru",
        "outputId": "d3a88a90-ea6e-48fb-ce70-2936dfac749f"
      },
      "execution_count": 7,
      "outputs": [
        {
          "output_type": "display_data",
          "data": {
            "text/plain": [
              "<Figure size 1000x400 with 1 Axes>"
            ],
            "image/png": "[encoded data removed]"
          },
          "metadata": {}
        }
      ]
    },
    {
      "cell_type": "markdown",
      "source": [
        "As you can see, by choosing 30 components for PCA, >90% of the variance in the data can be explained"
      ],
      "metadata": {
        "id": "6tcJ7QB1QKzG"
      }
    },
    {
      "cell_type": "code",
      "source": [
        "#Now, we will perform data augmentations to add Gaussian noise in an attempt to simulate biological variability\n",
        "\n",
        "def augment_data(X,y,noise_level=0.01,copies=2):\n",
        "  X_aug = [X]\n",
        "  y_aug = [y]\n",
        "\n",
        "  for _ in range(copies):\n",
        "    noise = np.random.normal(0, noise_level, X.shape)\n",
        "    X_noisy = X + noise\n",
        "    X_aug.append(X_noisy)\n",
        "    y_aug.append(y)\n",
        "\n",
        "  return np.vstack(X_aug), np.concatenate(y_aug)\n",
        "\n",
        "# Safeguard: force overwrite to avoid duplication\n",
        "X_aug, y_aug = augment_data(X_pca, labels.copy())\n",
        "\n",
        "print(\"Data augmented. New shape:\", X_aug.shape)\n"
      ],
      "metadata": {
        "colab": {
          "base_uri": "https://localhost:8080/"
        },
        "id": "AIL43llbQcYa",
        "outputId": "e0f63695-6c3d-4103-89df-856867cc3469"
      },
      "execution_count": 8,
      "outputs": [
        {
          "output_type": "stream",
          "name": "stdout",
          "text": [
            "Data augmented. New shape: (114, 30)\n"
          ]
        }
      ]
    },
    {
      "cell_type": "code",
      "source": [
        "#Finally, I will perform a traditional 80/20 split between training and testing data\n",
        "\n",
        "X_train, X_test, y_train, y_test = train_test_split(\n",
        "    X_aug, y_aug, test_size=0.2, random_state=42, stratify=y_aug)\n",
        "print(\"Data split. Train shape:\", X_train.shape, \"Test shape:\", X_test.shape)"
      ],
      "metadata": {
        "colab": {
          "base_uri": "https://localhost:8080/",
          "height": 356
        },
        "id": "lIOqtIL2UU2H",
        "outputId": "5f2a0ff2-dfd7-4ecc-af42-4039ab3117b3"
      },
      "execution_count": 10,
      "outputs": [
        {
          "output_type": "error",
          "ename": "ValueError",
          "evalue": "Found input variables with inconsistent numbers of samples: [114, 216]",
          "traceback": [
            "\u001b[0;31m---------------------------------------------------------------------------\u001b[0m",
            "\u001b[0;31mValueError\u001b[0m                                Traceback (most recent call last)",
            "\u001b[0;32m<ipython-input-10-dc6d5d83bc4b>\u001b[0m in \u001b[0;36m<cell line: 0>\u001b[0;34m()\u001b[0m\n\u001b[0;32m----> 1\u001b[0;31m X_train, X_test, y_train, y_test = train_test_split(\n\u001b[0m\u001b[1;32m      2\u001b[0m     X_aug, y_aug, test_size=0.2, random_state=42, stratify=y_aug)\n\u001b[1;32m      3\u001b[0m \u001b[0mprint\u001b[0m\u001b[0;34m(\u001b[0m\u001b[0;34m\"Data split. Train shape:\"\u001b[0m\u001b[0;34m,\u001b[0m \u001b[0mX_train\u001b[0m\u001b[0;34m.\u001b[0m\u001b[0mshape\u001b[0m\u001b[0;34m,\u001b[0m \u001b[0;34m\"Test shape:\"\u001b[0m\u001b[0;34m,\u001b[0m \u001b[0mX_test\u001b[0m\u001b[0;34m.\u001b[0m\u001b[0mshape\u001b[0m\u001b[0;34m)\u001b[0m\u001b[0;34m\u001b[0m\u001b[0;34m\u001b[0m\u001b[0m\n",
            "\u001b[0;32m/usr/local/lib/python3.11/dist-packages/sklearn/utils/_param_validation.py\u001b[0m in \u001b[0;36mwrapper\u001b[0;34m(*args, **kwargs)\u001b[0m\n\u001b[1;32m    214\u001b[0m                     )\n\u001b[1;32m    215\u001b[0m                 ):\n\u001b[0;32m--> 216\u001b[0;31m                     \u001b[0;32mreturn\u001b[0m \u001b[0mfunc\u001b[0m\u001b[0;34m(\u001b[0m\u001b[0;34m*\u001b[0m\u001b[0margs\u001b[0m\u001b[0;34m,\u001b[0m \u001b[0;34m**\u001b[0m\u001b[0mkwargs\u001b[0m\u001b[0;34m)\u001b[0m\u001b[0;34m\u001b[0m\u001b[0;34m\u001b[0m\u001b[0m\n\u001b[0m\u001b[1;32m    217\u001b[0m             \u001b[0;32mexcept\u001b[0m \u001b[0mInvalidParameterError\u001b[0m \u001b[0;32mas\u001b[0m \u001b[0me\u001b[0m\u001b[0;34m:\u001b[0m\u001b[0;34m\u001b[0m\u001b[0;34m\u001b[0m\u001b[0m\n\u001b[1;32m    218\u001b[0m                 \u001b[0;31m# When the function is just a wrapper around an estimator, we allow\u001b[0m\u001b[0;34m\u001b[0m\u001b[0;34m\u001b[0m\u001b[0m\n",
            "\u001b[0;32m/usr/local/lib/python3.11/dist-packages/sklearn/model_selection/_split.py\u001b[0m in \u001b[0;36mtrain_test_split\u001b[0;34m(test_size, train_size, random_state, shuffle, stratify, *arrays)\u001b[0m\n\u001b[1;32m   2846\u001b[0m         \u001b[0;32mraise\u001b[0m \u001b[0mValueError\u001b[0m\u001b[0;34m(\u001b[0m\u001b[0;34m\"At least one array required as input\"\u001b[0m\u001b[0;34m)\u001b[0m\u001b[0;34m\u001b[0m\u001b[0;34m\u001b[0m\u001b[0m\n\u001b[1;32m   2847\u001b[0m \u001b[0;34m\u001b[0m\u001b[0m\n\u001b[0;32m-> 2848\u001b[0;31m     \u001b[0marrays\u001b[0m \u001b[0;34m=\u001b[0m \u001b[0mindexable\u001b[0m\u001b[0;34m(\u001b[0m\u001b[0;34m*\u001b[0m\u001b[0marrays\u001b[0m\u001b[0;34m)\u001b[0m\u001b[0;34m\u001b[0m\u001b[0;34m\u001b[0m\u001b[0m\n\u001b[0m\u001b[1;32m   2849\u001b[0m \u001b[0;34m\u001b[0m\u001b[0m\n\u001b[1;32m   2850\u001b[0m     \u001b[0mn_samples\u001b[0m \u001b[0;34m=\u001b[0m \u001b[0m_num_samples\u001b[0m\u001b[0;34m(\u001b[0m\u001b[0marrays\u001b[0m\u001b[0;34m[\u001b[0m\u001b[0;36m0\u001b[0m\u001b[0;34m]\u001b[0m\u001b[0;34m)\u001b[0m\u001b[0;34m\u001b[0m\u001b[0;34m\u001b[0m\u001b[0m\n",
            "\u001b[0;32m/usr/local/lib/python3.11/dist-packages/sklearn/utils/validation.py\u001b[0m in \u001b[0;36mindexable\u001b[0;34m(*iterables)\u001b[0m\n\u001b[1;32m    530\u001b[0m \u001b[0;34m\u001b[0m\u001b[0m\n\u001b[1;32m    531\u001b[0m     \u001b[0mresult\u001b[0m \u001b[0;34m=\u001b[0m \u001b[0;34m[\u001b[0m\u001b[0m_make_indexable\u001b[0m\u001b[0;34m(\u001b[0m\u001b[0mX\u001b[0m\u001b[0;34m)\u001b[0m \u001b[0;32mfor\u001b[0m \u001b[0mX\u001b[0m \u001b[0;32min\u001b[0m \u001b[0miterables\u001b[0m\u001b[0;34m]\u001b[0m\u001b[0;34m\u001b[0m\u001b[0;34m\u001b[0m\u001b[0m\n\u001b[0;32m--> 532\u001b[0;31m     \u001b[0mcheck_consistent_length\u001b[0m\u001b[0;34m(\u001b[0m\u001b[0;34m*\u001b[0m\u001b[0mresult\u001b[0m\u001b[0;34m)\u001b[0m\u001b[0;34m\u001b[0m\u001b[0;34m\u001b[0m\u001b[0m\n\u001b[0m\u001b[1;32m    533\u001b[0m     \u001b[0;32mreturn\u001b[0m \u001b[0mresult\u001b[0m\u001b[0;34m\u001b[0m\u001b[0;34m\u001b[0m\u001b[0m\n\u001b[1;32m    534\u001b[0m \u001b[0;34m\u001b[0m\u001b[0m\n",
            "\u001b[0;32m/usr/local/lib/python3.11/dist-packages/sklearn/utils/validation.py\u001b[0m in \u001b[0;36mcheck_consistent_length\u001b[0;34m(*arrays)\u001b[0m\n\u001b[1;32m    473\u001b[0m     \u001b[0muniques\u001b[0m \u001b[0;34m=\u001b[0m \u001b[0mnp\u001b[0m\u001b[0;34m.\u001b[0m\u001b[0munique\u001b[0m\u001b[0;34m(\u001b[0m\u001b[0mlengths\u001b[0m\u001b[0;34m)\u001b[0m\u001b[0;34m\u001b[0m\u001b[0;34m\u001b[0m\u001b[0m\n\u001b[1;32m    474\u001b[0m     \u001b[0;32mif\u001b[0m \u001b[0mlen\u001b[0m\u001b[0;34m(\u001b[0m\u001b[0muniques\u001b[0m\u001b[0;34m)\u001b[0m \u001b[0;34m>\u001b[0m \u001b[0;36m1\u001b[0m\u001b[0;34m:\u001b[0m\u001b[0;34m\u001b[0m\u001b[0;34m\u001b[0m\u001b[0m\n\u001b[0;32m--> 475\u001b[0;31m         raise ValueError(\n\u001b[0m\u001b[1;32m    476\u001b[0m             \u001b[0;34m\"Found input variables with inconsistent numbers of samples: %r\"\u001b[0m\u001b[0;34m\u001b[0m\u001b[0;34m\u001b[0m\u001b[0m\n\u001b[1;32m    477\u001b[0m             \u001b[0;34m%\u001b[0m \u001b[0;34m[\u001b[0m\u001b[0mint\u001b[0m\u001b[0;34m(\u001b[0m\u001b[0ml\u001b[0m\u001b[0;34m)\u001b[0m \u001b[0;32mfor\u001b[0m \u001b[0ml\u001b[0m \u001b[0;32min\u001b[0m \u001b[0mlengths\u001b[0m\u001b[0;34m]\u001b[0m\u001b[0;34m\u001b[0m\u001b[0;34m\u001b[0m\u001b[0m\n",
            "\u001b[0;31mValueError\u001b[0m: Found input variables with inconsistent numbers of samples: [114, 216]"
          ]
        }
      ]
    }
  ]
}