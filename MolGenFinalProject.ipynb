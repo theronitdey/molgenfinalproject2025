{
  "nbformat": 4,
  "nbformat_minor": 0,
  "metadata": {
    "colab": {
      "provenance": [],
      "authorship_tag": "ABX9TyP+fmTmVlsEwTYi55t4Gtak",
      "include_colab_link": true
    },
    "kernelspec": {
      "name": "python3",
      "display_name": "Python 3"
    },
    "language_info": {
      "name": "python"
    }
  },
  "cells": [
    {
      "cell_type": "markdown",
      "metadata": {
        "id": "view-in-github",
        "colab_type": "text"
      },
      "source": [
        "<a href=\"https://colab.research.google.com/github/theronitdey/molgenfinalproject2025/blob/main/MolGenFinalProject.ipynb\" target=\"_parent\"><img src=\"https://colab.research.google.com/assets/colab-badge.svg\" alt=\"Open In Colab\"/></a>"
      ]
    },
    {
      "cell_type": "markdown",
      "source": [
        "# **Molecular Genetics Final Project**"
      ],
      "metadata": {
        "id": "GXtaXLr232BV"
      }
    },
    {
      "cell_type": "markdown",
      "source": [
        "For my final project, I want to explore how deep learning models, traditionally thought to require massive datasets, can be adapted to small biological datasets through techniques such as data augmentation, transfer learning, and regularization. I want to tailor this towards creating a modelor distinguishing between acute myeloid leukemia (AML) and acute lymphoblastic leukemia (ALL) using supervised learning techniques. I will first expand the effective size of the training set through biologically-informed data augmentation and pretraining strategies, and then develop a compact deep learning model (e.g., a small dense network or a Siamese network) optimized for generalization with minimal data. Rather than focusing on trying to maximize classification accuracy by using a very computationally intensive and complicated model architecture, I want to focus on computational efficiency and interpretability, since that is critical for practical applications in molecular genetics. On a personal level,  building computationally efficient and interpretable models is something I am passionate about and have experience with."
      ],
      "metadata": {
        "id": "PX65XIYW350B"
      }
    },
    {
      "cell_type": "markdown",
      "source": [
        "# Part 1: Setting up Imports and Reading in Data"
      ],
      "metadata": {
        "id": "be3Ev93_4Sed"
      }
    },
    {
      "cell_type": "code",
      "execution_count": 1,
      "metadata": {
        "colab": {
          "base_uri": "https://localhost:8080/"
        },
        "id": "BUL1XzUX3Q1Z",
        "outputId": "777cc7ef-def4-423e-f6cb-47f7a93f7c9d"
      },
      "outputs": [
        {
          "output_type": "stream",
          "name": "stdout",
          "text": [
            "Mounted at /content/drive\n"
          ]
        }
      ],
      "source": [
        "#Various imports necessary to perform computations, develop supervised ML models, and create visualiztaions\n",
        "import os\n",
        "import numpy as np\n",
        "import shutil\n",
        "import pandas as pd\n",
        "import tensorflow as tf\n",
        "from tensorflow.keras import layers, models, regularizers\n",
        "from sklearn.model_selection import train_test_split\n",
        "from sklearn.preprocessing import StandardScaler\n",
        "from sklearn.decomposition import PCA\n",
        "from sklearn.metrics import classification_report, confusion_matrix\n",
        "\n",
        "from google.colab import drive\n",
        "drive.mount('/content/drive') #Mounting to Google Drive"
      ]
    }
  ]
}